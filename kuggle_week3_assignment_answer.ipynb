{
 "cells": [
  {
   "cell_type": "markdown",
   "metadata": {},
   "source": [
    "# 3주차 과제\n",
    "\n",
    "- 처음엔 조금 어려울 수 있지만, 시도하다보면 어떻게 해야할지 감을 잡게 될거에요!\n",
    "- 결과를 도출해내는 것이 목적이지만, 코드를 작성하는 과정에서도 얻어가는 게 많기 때문에 많이 시도해주세요!\n",
    "- 제출 일자는 다음주 월요일 자정까지 입니다."
   ]
  },
  {
   "cell_type": "markdown",
   "metadata": {},
   "source": [
    "## Q1.\n",
    "\n",
    "프로그램 사용자로부터 양의 정수를 하나 입력 받은 다음,\n",
    "그 수의 배수를 그 수 만큼 출력하는 프로그램을 작성해보자.\n",
    "\n",
    "예를 들어, 5을 입력한다면\n",
    "5 10 15 20 25 가 출력되어야 한다."
   ]
  },
  {
   "cell_type": "code",
   "execution_count": null,
   "metadata": {},
   "outputs": [],
   "source": [
    "number=int(input())\n",
    "for i in range(1,number+1):\n",
    "    print(number*i)"
   ]
  },
  {
   "cell_type": "markdown",
   "metadata": {},
   "source": [
    "## Q2.\n",
    "\n",
    "프로그램 사용자로부터 정수를 계속 입력받는다.\n",
    "그리고 그 값을 계속 더해나간다.\n",
    "\n",
    "이러한 작업은 0을 입력할 때 까지 계속되어야 하며,\n",
    "0이 입력되면 입력된 모든 정수의 평균을 출력하라.\n",
    "\n"
   ]
  },
  {
   "cell_type": "code",
   "execution_count": null,
   "metadata": {},
   "outputs": [],
   "source": [
    "sum=0\n",
    "score1=[]\n",
    "while 1:\n",
    "    score=int(input())\n",
    "    score1.append(score)\n",
    "    sum+=score \n",
    "    if score==0:break\n",
    "mean=sum/(len(score1)-1)\n",
    "print(\"평균은 %d입니다\"%mean)"
   ]
  },
  {
   "cell_type": "markdown",
   "metadata": {},
   "source": [
    "## Q3.\n",
    "프로그램 사용자로부터 정수를 하나 입력받는다.\n",
    "첫번째 줄에는 * 한 개, 두번째 줄에는 *두개, ... ,  n번째 줄에는 * n개를 출력한다.\n",
    "#### 예를 들어, 사용자가 4를 입력하면,\n",
    "#### *\n",
    "#### **\n",
    "#### ***\n",
    "#### ****\n",
    "가 출력되도록 한다"
   ]
  },
  {
   "cell_type": "code",
   "execution_count": null,
   "metadata": {},
   "outputs": [],
   "source": [
    "num=int(input(\"숫자를 입력하시오:\"))\n",
    "for i in range(1,5):\n",
    "    print(\"*\"*i)\n",
    "print(\"\\n\")"
   ]
  },
  {
   "cell_type": "markdown",
   "metadata": {},
   "source": [
    "## Q4.\n",
    "프로그램 사용자로부터 입력 받은 숫자에 해당하는 구구단을 출력하되,\n",
    "역순으로 출력하는 프로그램을 작성해보라."
   ]
  },
  {
   "cell_type": "code",
   "execution_count": null,
   "metadata": {},
   "outputs": [],
   "source": [
    "number=int(input())\n",
    "for i in range(9,0,-1):\n",
    "    print(number,\"*\",i,\"=\",number*i)"
   ]
  },
  {
   "cell_type": "markdown",
   "metadata": {},
   "source": [
    "## Q5.\n",
    "두 개의 정수를 계속해서 입력받아서 두 수의 차를 출력하는 프로그램을 구현하라.\n",
    "\n",
    "무조건 큰 수에서 작은 수를 뺀 결과를 출력해야 한다.\n",
    "(입력된 순서는 어떤 것이 클 지 모른다.)"
   ]
  },
  {
   "cell_type": "code",
   "execution_count": null,
   "metadata": {},
   "outputs": [],
   "source": [
    "while 1:\n",
    "    num1=int(input())\n",
    "    num2=int(input())\n",
    "    if num1>num2:\n",
    "        result=num1-num2\n",
    "    elif num1<num2:\n",
    "        result=num2-num1\n",
    "    else:result=0\n",
    "    print(\"두 수의 차는 %d입니다\"%result)"
   ]
  },
  {
   "cell_type": "code",
   "execution_count": null,
   "metadata": {},
   "outputs": [],
   "source": [
    "while 1:\n",
    "    num=list(input(\"두 숫자를 입력하세요:\"))\n",
    "    num1=int(num[0])\n",
    "    num2=int(num[2])\n",
    "    if num1>num2:\n",
    "        result=num1-num2\n",
    "    elif num1<num2:\n",
    "        result=num2-num1\n",
    "    else:result=0\n",
    "    print(\"두 수의 차는 %d입니다\"%result)"
   ]
  },
  {
   "cell_type": "markdown",
   "metadata": {},
   "source": [
    "## Q6.\n",
    "두 개의 정수를 사용자로부터 입력받고,\n",
    "이 두 수의 최대공약수를 구하는 프로그램을 구현하라.\n",
    "\n",
    "hint : 최대공약수로 두 수를 나누면 나머지가 0이 된다."
   ]
  },
  {
   "cell_type": "code",
   "execution_count": null,
   "metadata": {},
   "outputs": [],
   "source": [
    "num1=int(input())\n",
    "num2=int(input())\n",
    "common=[]\n",
    "if num1>num2:\n",
    "    for i in range(1,num2+1):\n",
    "        if num1%i==0 and num2%i==0:\n",
    "            common.append(i)\n",
    "    print(\"두 수의 최대공약수는 %d입니다\"%common[len(common)-1])\n",
    "else:\n",
    "    for i in range(1,num1+1):\n",
    "        if num1%i==0 and num2%i==0:\n",
    "            common.append(i)\n",
    "    print(\"두 수의 최대공약수는 %d입니다\"%common[len(common)-1])"
   ]
  },
  {
   "cell_type": "markdown",
   "metadata": {},
   "source": [
    "## Q7.\n",
    "\n",
    "반복문/조건문을 사용해 10개의 소수를 구한 후, 10개의 소수를 리스트에 담아 출력하라.\n",
    "\n",
    "실행결과는 [2, 3, 5, 7, 11, 13, 17, 19, 23, 29]이다."
   ]
  },
  {
   "cell_type": "code",
   "execution_count": null,
   "metadata": {},
   "outputs": [],
   "source": [
    "j=3\n",
    "pn=[2]\n",
    "while 1:\n",
    "    count=0\n",
    "    for i in range(2,j):\n",
    "        if j%i==0:\n",
    "            count+=1\n",
    "    if count==0:\n",
    "        pn.append(j)\n",
    "    j+=1\n",
    "    if len(pn)==10:\n",
    "        break\n",
    "pn"
   ]
  },
  {
   "cell_type": "markdown",
   "metadata": {},
   "source": [
    "## Q8.\n",
    "프로그램 사용자로부터 초(second)를 입력받은 후, 이를 [시, 분, 초]의 형태로 출력하는 프로그램을 작성하라.\n",
    "\n",
    "예를 들어, 3615를 입력했다면\n",
    "[h:1, m:0, s:15]라고 결과가 나와야 한다."
   ]
  },
  {
   "cell_type": "code",
   "execution_count": null,
   "metadata": {},
   "outputs": [],
   "source": [
    "second=int(input())\n",
    "h=second//3600\n",
    "if (second-3600*h)>60:\n",
    "    m=(second-3600*h)//60\n",
    "else:\n",
    "    m=0\n",
    "s=second-3600*h-60*m\n",
    "print(\"[h:{0},m:{1},s:{2}]\".format(h,m,s))"
   ]
  },
  {
   "cell_type": "code",
   "execution_count": 1,
   "metadata": {},
   "outputs": [
    {
     "name": "stdout",
     "output_type": "stream",
     "text": [
      "시간을 입력하세요:3615\n",
      "[h:1,m:0,s:15]\n",
      "시간을 입력하세요:0\n"
     ]
    }
   ],
   "source": [
    "h,m,s=0,0,0\n",
    "while 1:\n",
    "    time=int(input(\"시간을 입력하세요:\"))\n",
    "    if time==0:\n",
    "        break\n",
    "    h=time//3600\n",
    "    m=(time%3600)//60\n",
    "    s=(time%3600)%60\n",
    "    print(\"[h:{0},m:{1},s:{2}]\".format(h,m,s))"
   ]
  },
  {
   "cell_type": "markdown",
   "metadata": {},
   "source": [
    "## Q9.\n",
    "프로그램 사용자로부터 양의 정수를 하나 입력받은 다음,\n",
    "factorial을 계산해서 출력하는 프로그램을 작성하라\n",
    "\n",
    "만약 5를 입력받았다면\n",
    "5! = 120 꼴 형태로 출력"
   ]
  },
  {
   "cell_type": "code",
   "execution_count": null,
   "metadata": {},
   "outputs": [],
   "source": [
    "num=int(input())\n",
    "fac=1\n",
    "for i in range(num,0,-1):\n",
    "    fac=fac*i\n",
    "print('{0}!={1}'.format(num,fac))"
   ]
  },
  {
   "cell_type": "markdown",
   "metadata": {},
   "source": [
    "## Q10.\n",
    "연도가 주어졌을 때, 윤년이면 1, 아니면 0을 출력하는 프로그램을 작성하시오.\n",
    "\n",
    "윤년은 연도가 4의 배수이면서, 100의 배수가 아닐 때 또는 400의 배수일 때이다.\n",
    "\n",
    "예를 들어, 2012년은 4의 배수이면서 100의 배수가 아니라서 윤년이다. \n",
    "\n",
    "1900년은 100의 배수이고 400의 배수는 아니기 때문에 윤년이 아니다.\n",
    "\n",
    "하지만, 2000년은 400의 배수이기 때문에 윤년이다.\n",
    "\n",
    "사용자로부터 연도를 입력받아, 윤년에 해당하면 1, 해당하지 않으면 0을 출력한다."
   ]
  },
  {
   "cell_type": "code",
   "execution_count": null,
   "metadata": {},
   "outputs": [],
   "source": [
    "year = int(input())\n",
    "\n",
    "if((year % 4 == 0) and (year % 100 != 0 or year % 400 == 0)):\n",
    "    print('1')\n",
    "else:\n",
    "    print('0')"
   ]
  },
  {
   "cell_type": "markdown",
   "metadata": {},
   "source": [
    "## Q11.\n",
    "우리는 고객에 대한 성별 데이터를(info) 가지고 있습니다.\n",
    "\n",
    "이 데이터(info)를 'M'을 0, 'F'를 1으로 바꿔 다른 리스트에 저장해주세요."
   ]
  },
  {
   "cell_type": "code",
   "execution_count": null,
   "metadata": {},
   "outputs": [],
   "source": [
    "# 'M'과 'F' 중에 랜덤으로 50개 복원추출하여 info 리스트를 만든다\n",
    "# 우리 list comprehension 배웠죠?\n",
    "import random\n",
    "info = [random.choice(['M', 'F']) for i in range(50)] "
   ]
  },
  {
   "cell_type": "code",
   "execution_count": null,
   "metadata": {},
   "outputs": [],
   "source": [
    "for i in range(0,len(info)):\n",
    "    if info[i]=='M':\n",
    "        info[i]='0'\n",
    "    elif info[i]=='F':\n",
    "        info[i]='1'\n",
    "info"
   ]
  },
  {
   "cell_type": "markdown",
   "metadata": {},
   "source": [
    "## Q12.\n",
    "정수 N이 주어졌을 때, 소인수분해하는 프로그램을 만드시오.\n",
    "\n",
    "N의 소인수분해 결과를 한 줄에 하나씩 오름차순으로 출력한다."
   ]
  },
  {
   "cell_type": "code",
   "execution_count": null,
   "metadata": {},
   "outputs": [],
   "source": [
    "import math\n",
    "\n",
    "num = int(input())\n",
    "\n",
    "while num != 1:\n",
    "    for i in range(2, num + 1):\n",
    "        if(num % i == 0):\n",
    "            print(i)\n",
    "            num = num // i\n",
    "            break"
   ]
  },
  {
   "cell_type": "markdown",
   "metadata": {},
   "source": [
    "## Q13.\n",
    "\n",
    "상근이의 동생 상수는 수학을 정말 못한다. 상수는 숫자를 읽는데 문제가 있다. \n",
    "\n",
    "이렇게 수학을 못하는 상수를 위해서 상근이는 수의 크기를 비교하는 문제를 내주었다. \n",
    "\n",
    "상근이는 세 자리 수 두 개를 칠판에 써주었다. 그 다음에 크기가 큰 수를 말해보라고 했다.\n",
    "\n",
    "상수는 수를 다른 사람과 다르게 거꾸로 읽는다. \n",
    "\n",
    "예를 들어, 734과 893을 칠판에 적었다면, 상수는 이 수를 437과 398로 읽는다. \n",
    "\n",
    "따라서, 상수는 두 수중 큰 수인 437을 큰 수라고 말할 것이다.\n",
    "\n",
    "두 수가 주어졌을 때, 상수의 대답을 출력하는 프로그램을 작성하시오.\n",
    "\n",
    "<주의>\n",
    "1. 두 수는 input()으로 받는다.\n",
    "2. 상수의 대답은 print() 이용해 출력하라.\n"
   ]
  },
  {
   "cell_type": "code",
   "execution_count": null,
   "metadata": {},
   "outputs": [],
   "source": [
    "a=str(input())\n",
    "b=str(input())\n",
    "reverse_a=\"\"\n",
    "reverse_b=\"\"\n",
    "for i in a:\n",
    "    reverse_a = i + reverse_a\n",
    "for i in b:\n",
    "    reverse_b=i+ reverse_b\n",
    "a1=int(reverse_a)\n",
    "b1=int(reverse_b)\n",
    "if a1>b1:\n",
    "    print(\"상수는 두 수를 {0},{1}로 읽고 {2}가 더 크다고 답할 것이다\".format(a1,b1,a1))\n",
    "elif a1<b1:\n",
    "     print(\"상수는 두 수를 {0},{1}로 읽고 {2}가 더 크다고 답할 것이다\".format(a1,b1,b1))\n",
    "else:\n",
    "     print(\"상수는 두 수를 {0},{1}로 읽고 두 수가 같다고 답할 것이다\".format(a1,b1))"
   ]
  },
  {
   "cell_type": "markdown",
   "metadata": {},
   "source": [
    "## Q14.\n",
    "\n",
    "<숫자맞추기 게임>\n",
    "1이상 100미만의 랜덤 정수가 rand에 저장된다.\n",
    "사용자는 이 랜덤숫자를 맞춰야 하는 게임이다.\n",
    "\n",
    "사용자가 입력한 숫자가 rand보다 크면 \"(입력한 숫자)보다 큽니다\"를 출력하고,\n",
    "사용자가 입력한 숫자가 rand보다 작으면 \"(입력한 숫자)보다 작습니다\"를 출력한다.\n",
    "만약 정답을 맞춘다면 \"정답\"을 출력한 후, \"(횟수)번 만에 맞추셨습니다\"를 출력한다.\n",
    "\n",
    "(입력한 숫자), (횟수)에는 실제 사용자가 입력한 숫자와 실제 시도한 횟수를 넣어주셔야 합니다."
   ]
  },
  {
   "cell_type": "code",
   "execution_count": null,
   "metadata": {},
   "outputs": [],
   "source": [
    "#1이상 100미만의 정수 하나를 임의로 뽑는다\n",
    "import random\n",
    "rand = random.randint(1, 100) # 랜덤숫자는 정해졌다"
   ]
  },
  {
   "cell_type": "code",
   "execution_count": null,
   "metadata": {},
   "outputs": [],
   "source": [
    "trial=[]\n",
    "while 1:\n",
    " guess=int(input())\n",
    " trial.append(guess)\n",
    " if guess<rand:\n",
    "    print('%d보다 큽니다'%guess)\n",
    "\n",
    " elif guess>rand:\n",
    "    print('%d보다 작습니다'%guess)\n",
    " else:\n",
    "    print(\"정답\")\n",
    "    break\n",
    "num=len(trial)\n",
    "print(\"%d번 만에 맞추셨습니다\"%num)"
   ]
  },
  {
   "cell_type": "markdown",
   "metadata": {},
   "source": [
    "## Q15.\n",
    "우리는 붓꽃을 분류하는 알고리즘을 짤 것이다. (실제 예측방법과는 무관)\n",
    "\n",
    "1. sepal_length가 5.5미만이면 'Setora', \n",
    "                  5.5이상 6미만이면 'Versicolor', \n",
    "                  6이상이면 'Virginica'\n",
    "                  \n",
    "2. sepal_width가 2.8미만이면 'Versicolor',\n",
    "                 2.8이상 3.2미만이면 'Virginica',\n",
    "                 3.2이상이면 'Setora'\n",
    "                 \n",
    "3. petal_length가 2미만이면 'Setora',\n",
    "                  3이상 5미만이면 'Versicolor',\n",
    "                  5이상이면 'Virginica'\n",
    "                  \n",
    "만약 sepal.length가 5.7, sepal.width가 3.4, petal.length가 5.2라면\n",
    "Versicolor, Virginica, Virginica 라면 과반수에 의해 Virginica로 최종 예측된다.\n",
    "\n",
    "만약에 Versicolor, Virginica, Setora가 나오면 'Unknown'으로 예측한다.\n",
    "\n",
    "최종 예측한 값은 데이터의 순서에 맞게 predict 리스트에 저장한다."
   ]
  },
  {
   "cell_type": "code",
   "execution_count": null,
   "metadata": {},
   "outputs": [],
   "source": [
    "sepal_length=5.7\n",
    "sepal_width=3.1\n",
    "petal_length=5.2"
   ]
  },
  {
   "cell_type": "code",
   "execution_count": null,
   "metadata": {},
   "outputs": [],
   "source": [
    "if sepal_length<5.5:\n",
    "    count1=0\n",
    "elif 5.5<=sepal_length<6:\n",
    "    count1=1\n",
    "else:\n",
    "    count1=2\n",
    "if sepal_width<2.8:\n",
    "    count2=1\n",
    "elif 2.8<=sepal_width<3.2:\n",
    "    count2=2\n",
    "else:\n",
    "    count2=0\n",
    "if petal_length<2:\n",
    "    count3=0\n",
    "elif 3<=petal_length<5:\n",
    "    count3=1\n",
    "else:\n",
    "    count3=2\n",
    "if count1==0:\n",
    "    predict.append('Setora')\n",
    "elif count1==1:\n",
    "    predict.append('Versicolor')\n",
    "else:\n",
    "    predict.append('Virginica')\n",
    "if count2==0:\n",
    "    predict.append('Setora')\n",
    "elif count2==1:\n",
    "    predict.append('Versicolor')\n",
    "else:\n",
    "    predict.append('Virginica')\n",
    "if count3==0:\n",
    "    predict.append('Setora')\n",
    "elif count3==1:\n",
    "    predict.append('Versicolor')\n",
    "else:\n",
    "    predict.append('Virginica')\n",
    "predict"
   ]
  },
  {
   "cell_type": "markdown",
   "metadata": {},
   "source": [
    "## Q16\n",
    "\n",
    "단어의 길이가 홀수인 것만 리스트에 저장해주세요 (list comprehension 이용)"
   ]
  },
  {
   "cell_type": "code",
   "execution_count": null,
   "metadata": {},
   "outputs": [],
   "source": [
    "word = ['commonplace', 'cummulative', 'annals', 'blunder', 'injunction', 'irony',\n",
    "       'sympathy', 'register', 'reclaim', 'apparent', 'requirement', 'dependence',\n",
    "       'vindicate', 'protection', 'confess', 'covering', 'enrich', 'contemplate']"
   ]
  },
  {
   "cell_type": "code",
   "execution_count": null,
   "metadata": {},
   "outputs": [],
   "source": [
    "word=[i for i in word if len(i)%2!=0 ]\n",
    "word"
   ]
  },
  {
   "cell_type": "markdown",
   "metadata": {},
   "source": [
    "## Q17.\n",
    "사용자로부터 숫자를 입력받아 그 숫자를 이진수로 변환하는 프로그램을 생성하시오."
   ]
  },
  {
   "cell_type": "code",
   "execution_count": null,
   "metadata": {},
   "outputs": [],
   "source": [
    "n=7\n",
    "ans=\"\"\n",
    "if n==1:\n",
    "    ans+='1'\n",
    "while True:\n",
    "    if n%2==0:\n",
    "        ans+='0'\n",
    "        n=n/2\n",
    "    else:\n",
    "        ans+='1'\n",
    "        n=n//2\n",
    "    if n==1:\n",
    "        ans+='1'\n",
    "        ans=ans[::-1]\n",
    "        break\n",
    "ans"
   ]
  },
  {
   "cell_type": "markdown",
   "metadata": {},
   "source": [
    "## Q18.\n",
    "피보나치 수는 0과 1로 시작한다. 0번째 피보나치 수는 0이고, 1번째 피보나치 수는 1이다. 그 다음 2번째 부터는 바로 앞 두 피보나치 수의 합이 된다.\n",
    "\n",
    "이를 식으로 써보면 Fn = Fn-1 + Fn-2 (n>=2)가 된다.\n",
    "\n",
    "n=17일때 까지 피보나치 수를 써보면 다음과 같다.\n",
    "\n",
    "0, 1, 1, 2, 3, 5, 8, 13, 21, 34, 55, 89, 144, 233, 377, 610, 987, 1597\n",
    "\n",
    "n이 주어졌을 때, n번째 피보나치 수를 구하는 프로그램을 작성하시오."
   ]
  },
  {
   "cell_type": "code",
   "execution_count": null,
   "metadata": {},
   "outputs": [],
   "source": [
    "f1,f2,cnt=0,1,2\n",
    "N=int(input())\n",
    "while (cnt<= N):\n",
    "    f3=f1+f2\n",
    "    f1=f2\n",
    "    f2=f3\n",
    "    cnt+=1\n",
    "print(\"{0}번째 피보나치 수:{1}\".format(N,f3))"
   ]
  },
  {
   "cell_type": "code",
   "execution_count": 1,
   "metadata": {},
   "outputs": [
    {
     "name": "stdout",
     "output_type": "stream",
     "text": [
      "0\n",
      "1\n",
      "1\n",
      "2\n",
      "3\n",
      "5\n",
      "8\n",
      "13\n",
      "21\n",
      "34\n"
     ]
    }
   ],
   "source": [
    "def fib(n):\n",
    "    if n==0: return 0\n",
    "    if n==1: return 1\n",
    "    return fib(n-2)+fib(n-1)\n",
    "for i in range(10):\n",
    "    print(fib(i))"
   ]
  },
  {
   "cell_type": "code",
   "execution_count": null,
   "metadata": {},
   "outputs": [],
   "source": []
  }
 ],
 "metadata": {
  "kernelspec": {
   "display_name": "Python 3",
   "language": "python",
   "name": "python3"
  },
  "language_info": {
   "codemirror_mode": {
    "name": "ipython",
    "version": 3
   },
   "file_extension": ".py",
   "mimetype": "text/x-python",
   "name": "python",
   "nbconvert_exporter": "python",
   "pygments_lexer": "ipython3",
   "version": "3.7.4"
  }
 },
 "nbformat": 4,
 "nbformat_minor": 2
}
